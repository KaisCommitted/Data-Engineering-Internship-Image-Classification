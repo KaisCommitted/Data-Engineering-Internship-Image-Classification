{
 "cells": [
  {
   "cell_type": "code",
   "execution_count": 12,
   "metadata": {
    "colab": {
     "base_uri": "https://localhost:8080/"
    },
    "id": "FVxzdZW8FjzH",
    "outputId": "0e89ff48-d395-41ee-d361-6eb1b5e6f865",
    "tags": []
   },
   "outputs": [
    {
     "name": "stdout",
     "output_type": "stream",
     "text": [
      "Requirement already satisfied: opencv-python in c:\\users\\kais\\anaconda3\\lib\\site-packages (4.6.0.66)\n",
      "Requirement already satisfied: numpy>=1.17.3 in c:\\users\\kais\\anaconda3\\lib\\site-packages (from opencv-python) (1.20.1)\n"
     ]
    }
   ],
   "source": [
    "!pip install opencv-python"
   ]
  },
  {
   "cell_type": "code",
   "execution_count": 13,
   "metadata": {
    "tags": []
   },
   "outputs": [
    {
     "name": "stdout",
     "output_type": "stream",
     "text": [
      "Requirement already satisfied: keras in c:\\users\\kais\\anaconda3\\lib\\site-packages (2.10.0)\n"
     ]
    }
   ],
   "source": [
    "!pip install keras"
   ]
  },
  {
   "cell_type": "code",
   "execution_count": 14,
   "metadata": {
    "tags": []
   },
   "outputs": [
    {
     "name": "stdout",
     "output_type": "stream",
     "text": [
      "Requirement already satisfied: tensorflow-gpu in c:\\users\\kais\\anaconda3\\lib\\site-packages (2.10.0)\n",
      "Requirement already satisfied: termcolor>=1.1.0 in c:\\users\\kais\\anaconda3\\lib\\site-packages (from tensorflow-gpu) (2.0.1)\n",
      "Requirement already satisfied: tensorflow-estimator<2.11,>=2.10.0 in c:\\users\\kais\\anaconda3\\lib\\site-packages (from tensorflow-gpu) (2.10.0)\n",
      "Requirement already satisfied: google-pasta>=0.1.1 in c:\\users\\kais\\anaconda3\\lib\\site-packages (from tensorflow-gpu) (0.2.0)\n",
      "Requirement already satisfied: six>=1.12.0 in c:\\users\\kais\\anaconda3\\lib\\site-packages (from tensorflow-gpu) (1.15.0)\n",
      "Requirement already satisfied: gast<=0.4.0,>=0.2.1 in c:\\users\\kais\\anaconda3\\lib\\site-packages (from tensorflow-gpu) (0.4.0)\n",
      "Requirement already satisfied: absl-py>=1.0.0 in c:\\users\\kais\\anaconda3\\lib\\site-packages (from tensorflow-gpu) (1.3.0)\n",
      "Requirement already satisfied: protobuf<3.20,>=3.9.2 in c:\\users\\kais\\anaconda3\\lib\\site-packages (from tensorflow-gpu) (3.19.6)\n",
      "Requirement already satisfied: tensorboard<2.11,>=2.10 in c:\\users\\kais\\anaconda3\\lib\\site-packages (from tensorflow-gpu) (2.10.1)\n",
      "Requirement already satisfied: keras-preprocessing>=1.1.1 in c:\\users\\kais\\anaconda3\\lib\\site-packages (from tensorflow-gpu) (1.1.2)\n",
      "Requirement already satisfied: setuptools in c:\\users\\kais\\anaconda3\\lib\\site-packages (from tensorflow-gpu) (52.0.0.post20210125)\n",
      "Requirement already satisfied: typing-extensions>=3.6.6 in c:\\users\\kais\\anaconda3\\lib\\site-packages (from tensorflow-gpu) (3.7.4.3)\n",
      "Requirement already satisfied: libclang>=13.0.0 in c:\\users\\kais\\anaconda3\\lib\\site-packages (from tensorflow-gpu) (14.0.6)\n",
      "Requirement already satisfied: keras<2.11,>=2.10.0 in c:\\users\\kais\\anaconda3\\lib\\site-packages (from tensorflow-gpu) (2.10.0)\n",
      "Requirement already satisfied: opt-einsum>=2.3.2 in c:\\users\\kais\\anaconda3\\lib\\site-packages (from tensorflow-gpu) (3.3.0)\n",
      "Requirement already satisfied: grpcio<2.0,>=1.24.3 in c:\\users\\kais\\anaconda3\\lib\\site-packages (from tensorflow-gpu) (1.50.0)\n",
      "Requirement already satisfied: tensorflow-io-gcs-filesystem>=0.23.1 in c:\\users\\kais\\anaconda3\\lib\\site-packages (from tensorflow-gpu) (0.27.0)\n",
      "Requirement already satisfied: astunparse>=1.6.0 in c:\\users\\kais\\anaconda3\\lib\\site-packages (from tensorflow-gpu) (1.6.3)\n",
      "Requirement already satisfied: flatbuffers>=2.0 in c:\\users\\kais\\anaconda3\\lib\\site-packages (from tensorflow-gpu) (22.10.26)\n",
      "Requirement already satisfied: numpy>=1.20 in c:\\users\\kais\\anaconda3\\lib\\site-packages (from tensorflow-gpu) (1.20.1)\n",
      "Requirement already satisfied: h5py>=2.9.0 in c:\\users\\kais\\anaconda3\\lib\\site-packages (from tensorflow-gpu) (2.10.0)\n",
      "Requirement already satisfied: packaging in c:\\users\\kais\\anaconda3\\lib\\site-packages (from tensorflow-gpu) (20.9)\n",
      "Requirement already satisfied: wrapt>=1.11.0 in c:\\users\\kais\\anaconda3\\lib\\site-packages (from tensorflow-gpu) (1.12.1)\n",
      "Requirement already satisfied: wheel<1.0,>=0.23.0 in c:\\users\\kais\\anaconda3\\lib\\site-packages (from astunparse>=1.6.0->tensorflow-gpu) (0.36.2)\n",
      "Requirement already satisfied: markdown>=2.6.8 in c:\\users\\kais\\anaconda3\\lib\\site-packages (from tensorboard<2.11,>=2.10->tensorflow-gpu) (3.4.1)\n",
      "Requirement already satisfied: tensorboard-plugin-wit>=1.6.0 in c:\\users\\kais\\anaconda3\\lib\\site-packages (from tensorboard<2.11,>=2.10->tensorflow-gpu) (1.8.1)\n",
      "Requirement already satisfied: google-auth-oauthlib<0.5,>=0.4.1 in c:\\users\\kais\\anaconda3\\lib\\site-packages (from tensorboard<2.11,>=2.10->tensorflow-gpu) (0.4.6)\n",
      "Requirement already satisfied: werkzeug>=1.0.1 in c:\\users\\kais\\anaconda3\\lib\\site-packages (from tensorboard<2.11,>=2.10->tensorflow-gpu) (1.0.1)\n",
      "Requirement already satisfied: tensorboard-data-server<0.7.0,>=0.6.0 in c:\\users\\kais\\anaconda3\\lib\\site-packages (from tensorboard<2.11,>=2.10->tensorflow-gpu) (0.6.1)\n",
      "Requirement already satisfied: requests<3,>=2.21.0 in c:\\users\\kais\\anaconda3\\lib\\site-packages (from tensorboard<2.11,>=2.10->tensorflow-gpu) (2.25.1)\n",
      "Requirement already satisfied: google-auth<3,>=1.6.3 in c:\\users\\kais\\anaconda3\\lib\\site-packages (from tensorboard<2.11,>=2.10->tensorflow-gpu) (2.13.0)\n",
      "Requirement already satisfied: rsa<5,>=3.1.4 in c:\\users\\kais\\anaconda3\\lib\\site-packages (from google-auth<3,>=1.6.3->tensorboard<2.11,>=2.10->tensorflow-gpu) (4.9)\n",
      "Requirement already satisfied: pyasn1-modules>=0.2.1 in c:\\users\\kais\\anaconda3\\lib\\site-packages (from google-auth<3,>=1.6.3->tensorboard<2.11,>=2.10->tensorflow-gpu) (0.2.7)\n",
      "Requirement already satisfied: cachetools<6.0,>=2.0.0 in c:\\users\\kais\\anaconda3\\lib\\site-packages (from google-auth<3,>=1.6.3->tensorboard<2.11,>=2.10->tensorflow-gpu) (5.2.0)\n",
      "Requirement already satisfied: requests-oauthlib>=0.7.0 in c:\\users\\kais\\anaconda3\\lib\\site-packages (from google-auth-oauthlib<0.5,>=0.4.1->tensorboard<2.11,>=2.10->tensorflow-gpu) (1.3.1)\n",
      "Requirement already satisfied: importlib-metadata>=4.4 in c:\\users\\kais\\anaconda3\\lib\\site-packages (from markdown>=2.6.8->tensorboard<2.11,>=2.10->tensorflow-gpu) (5.0.0)\n",
      "Requirement already satisfied: zipp>=0.5 in c:\\users\\kais\\anaconda3\\lib\\site-packages (from importlib-metadata>=4.4->markdown>=2.6.8->tensorboard<2.11,>=2.10->tensorflow-gpu) (3.4.1)\n",
      "Requirement already satisfied: pyasn1<0.5.0,>=0.4.6 in c:\\users\\kais\\anaconda3\\lib\\site-packages (from pyasn1-modules>=0.2.1->google-auth<3,>=1.6.3->tensorboard<2.11,>=2.10->tensorflow-gpu) (0.4.8)\n",
      "Requirement already satisfied: idna<3,>=2.5 in c:\\users\\kais\\anaconda3\\lib\\site-packages (from requests<3,>=2.21.0->tensorboard<2.11,>=2.10->tensorflow-gpu) (2.10)\n",
      "Requirement already satisfied: chardet<5,>=3.0.2 in c:\\users\\kais\\anaconda3\\lib\\site-packages (from requests<3,>=2.21.0->tensorboard<2.11,>=2.10->tensorflow-gpu) (4.0.0)\n",
      "Requirement already satisfied: urllib3<1.27,>=1.21.1 in c:\\users\\kais\\anaconda3\\lib\\site-packages (from requests<3,>=2.21.0->tensorboard<2.11,>=2.10->tensorflow-gpu) (1.26.4)\n",
      "Requirement already satisfied: certifi>=2017.4.17 in c:\\users\\kais\\anaconda3\\lib\\site-packages (from requests<3,>=2.21.0->tensorboard<2.11,>=2.10->tensorflow-gpu) (2020.12.5)\n",
      "Requirement already satisfied: oauthlib>=3.0.0 in c:\\users\\kais\\anaconda3\\lib\\site-packages (from requests-oauthlib>=0.7.0->google-auth-oauthlib<0.5,>=0.4.1->tensorboard<2.11,>=2.10->tensorflow-gpu) (3.2.2)\n",
      "Requirement already satisfied: pyparsing>=2.0.2 in c:\\users\\kais\\anaconda3\\lib\\site-packages (from packaging->tensorflow-gpu) (2.4.7)\n"
     ]
    }
   ],
   "source": [
    "!pip install tensorflow-gpu"
   ]
  },
  {
   "cell_type": "code",
   "execution_count": 15,
   "metadata": {
    "tags": []
   },
   "outputs": [
    {
     "name": "stdout",
     "output_type": "stream",
     "text": [
      "Collecting package metadata (current_repodata.json): ...working... done\n",
      "Solving environment: ...working... done\n",
      "\n",
      "# All requested packages already installed.\n",
      "\n",
      "Retrieving notices: ...working... done\n",
      "\n",
      "Note: you may need to restart the kernel to use updated packages.\n"
     ]
    }
   ],
   "source": [
    "conda install -c conda-forge google-colab"
   ]
  },
  {
   "cell_type": "code",
   "execution_count": 16,
   "metadata": {
    "id": "QFKhwaTQDkN3"
   },
   "outputs": [],
   "source": [
    "import cv2\n",
    "import numpy as np\n",
    "import os\n",
    "from keras.preprocessing.image import ImageDataGenerator\n",
    "from keras import backend as K\n",
    "import keras\n",
    "import tensorflow as tf\n",
    "from keras.models import Sequential, Model,load_model\n",
    "from keras.callbacks import EarlyStopping,ModelCheckpoint\n",
    "#from google.colab.patches import cv2_imshow\n",
    "from keras.layers import Input, Add, Dense, Activation, ZeroPadding2D, BatchNormalization, Flatten, Conv2D, AveragePooling2D, MaxPooling2D, GlobalMaxPooling2D,MaxPool2D\n",
    "from keras.preprocessing import image\n",
    "from keras.initializers import glorot_uniform\n",
    "from tensorflow.keras.applications.resnet50 import ResNet50\n",
    "from tensorflow.keras.applications.resnet50 import preprocess_input, decode_predictions\n",
    "from tensorflow.keras.models import Model\n",
    "from tensorflow.keras.layers import Conv2D,Flatten,Dense,MaxPool2D,BatchNormalization,GlobalAveragePooling2D\n",
    "from tensorflow.keras.preprocessing.image import ImageDataGenerator,load_img\n",
    "import joblib"
   ]
  },
  {
   "cell_type": "code",
   "execution_count": 2,
   "metadata": {},
   "outputs": [
    {
     "data": {
      "text/plain": [
       "''"
      ]
     },
     "execution_count": 2,
     "metadata": {},
     "output_type": "execute_result"
    }
   ],
   "source": [
    "tf.test.gpu_device_name()"
   ]
  },
  {
   "cell_type": "code",
   "execution_count": 3,
   "metadata": {
    "id": "hpQ7enTBDtpp"
   },
   "outputs": [],
   "source": [
    "train_path=r\"C:\\Users\\kais\\Desktop\\Kais\\Stage\\ByColor\\train\"\n",
    "test_path=r\"C:\\Users\\kais\\Desktop\\Kais\\Stage\\ByColor\\test\"\n",
    "class_names=os.listdir(train_path)\n",
    "class_names_test=os.listdir(test_path)"
   ]
  },
  {
   "cell_type": "code",
   "execution_count": 4,
   "metadata": {
    "colab": {
     "base_uri": "https://localhost:8080/"
    },
    "id": "pfiru87YUh3j",
    "outputId": "e3742621-52bc-4352-d229-f38922ea39d8"
   },
   "outputs": [
    {
     "name": "stdout",
     "output_type": "stream",
     "text": [
      "['Blanc', 'Bleu', 'Gris', 'Jaune', 'Marron', 'Multicouleurs', 'Noir', 'Rouge', 'Transparent']\n",
      "['Blanc', 'Bleu', 'Gris', 'Jaune', 'Marron', 'Multicouleurs', 'Noir', 'Rouge', 'Transparent']\n"
     ]
    }
   ],
   "source": [
    "print(class_names)\n",
    "print(class_names_test)"
   ]
  },
  {
   "cell_type": "code",
   "execution_count": 5,
   "metadata": {
    "colab": {
     "base_uri": "https://localhost:8080/",
     "height": 617
    },
    "id": "eiRQhNeOEN9N",
    "outputId": "78224292-6686-4428-d2c2-8996b168376c"
   },
   "outputs": [],
   "source": [
    "### Sample datasets images\n",
    "image_argent=cv2.imread(r\"C:\\Users\\kais\\Desktop\\Kais\\Stage\\ByColor\\test\\Gris\\102935_1599492623824.jpg\")\n",
    "#cv2.imshow('ImageWindow', image_argent)\n",
    "cv2.waitKey()\n",
    "image_noir=cv2.imread(r\"C:\\Users\\kais\\Desktop\\Kais\\Stage\\ByColor\\test\\Noir\\15653_1599497520179.jpg\")\n",
    "#cv2_imshow(image_noir)"
   ]
  },
  {
   "cell_type": "code",
   "execution_count": 6,
   "metadata": {},
   "outputs": [],
   "source": [
    "train_datagen =ImageDataGenerator(preprocessing_function=preprocess_input,\n",
    "                                  shear_range=0.2,\n",
    "                                  zoom_range=0.2,\n",
    "                                  horizontal_flip=True,\n",
    "                                  validation_split=0.4)"
   ]
  },
  {
   "cell_type": "code",
   "execution_count": 7,
   "metadata": {},
   "outputs": [],
   "source": [
    "train_generator = ImageDataGenerator(zoom_range=0.15,width_shift_range=0.2,height_shift_range=0.2,shear_range=0.15)\n",
    "test_datagen = ImageDataGenerator()"
   ]
  },
  {
   "cell_type": "code",
   "execution_count": 9,
   "metadata": {},
   "outputs": [],
   "source": [
    "IMAGE_SIZE = (224, 224)"
   ]
  },
  {
   "cell_type": "code",
   "execution_count": 10,
   "metadata": {},
   "outputs": [
    {
     "name": "stdout",
     "output_type": "stream",
     "text": [
      "Found 4122 images belonging to 9 classes.\n",
      "Found 186 images belonging to 9 classes.\n",
      "Found 186 images belonging to 9 classes.\n"
     ]
    }
   ],
   "source": [
    "train_generator = train_datagen.flow_from_directory(train_path,target_size=IMAGE_SIZE,batch_size=32,shuffle=True,color_mode=\"rgb\",class_mode='categorical',subset='training')\n",
    "test_generator = train_datagen.flow_from_directory(test_path,target_size=IMAGE_SIZE,batch_size=32,shuffle=False,color_mode=\"rgb\",class_mode='categorical',subset='validation')\n",
    "valid_generator=train_datagen.flow_from_directory(test_path,target_size=IMAGE_SIZE,batch_size=32,class_mode ='categorical',subset='validation')\n"
   ]
  },
  {
   "cell_type": "code",
   "execution_count": 11,
   "metadata": {},
   "outputs": [
    {
     "name": "stdout",
     "output_type": "stream",
     "text": [
      "Epoch 1/30\n",
      "129/129 [==============================] - 908s 7s/step - loss: 1.2213 - accuracy: 0.6206\n",
      "Epoch 2/30\n",
      "129/129 [==============================] - 420s 3s/step - loss: 0.7752 - accuracy: 0.7339\n",
      "Epoch 3/30\n",
      "129/129 [==============================] - 468s 4s/step - loss: 0.6981 - accuracy: 0.7613\n",
      "Epoch 4/30\n",
      "129/129 [==============================] - 369s 3s/step - loss: 0.6189 - accuracy: 0.7858\n",
      "Epoch 5/30\n",
      "129/129 [==============================] - 368s 3s/step - loss: 0.5569 - accuracy: 0.8076\n",
      "Epoch 6/30\n",
      "129/129 [==============================] - 370s 3s/step - loss: 0.5022 - accuracy: 0.8234\n",
      "Epoch 7/30\n",
      "129/129 [==============================] - 311s 2s/step - loss: 0.4714 - accuracy: 0.8375\n",
      "Epoch 8/30\n",
      "129/129 [==============================] - 274s 2s/step - loss: 0.4608 - accuracy: 0.8350\n",
      "Epoch 9/30\n",
      "129/129 [==============================] - 174s 1s/step - loss: 0.4032 - accuracy: 0.8622\n",
      "Epoch 10/30\n",
      "129/129 [==============================] - 172s 1s/step - loss: 0.3731 - accuracy: 0.8690\n",
      "Epoch 11/30\n",
      "129/129 [==============================] - 172s 1s/step - loss: 0.3308 - accuracy: 0.8802\n",
      "Epoch 12/30\n",
      "129/129 [==============================] - 172s 1s/step - loss: 0.3031 - accuracy: 0.8947\n",
      "Epoch 13/30\n",
      "129/129 [==============================] - 172s 1s/step - loss: 0.3045 - accuracy: 0.8954\n",
      "Epoch 14/30\n",
      "129/129 [==============================] - 172s 1s/step - loss: 0.2747 - accuracy: 0.9059\n",
      "Epoch 15/30\n",
      "129/129 [==============================] - 172s 1s/step - loss: 0.2655 - accuracy: 0.9076\n",
      "Epoch 16/30\n",
      "129/129 [==============================] - 172s 1s/step - loss: 0.2450 - accuracy: 0.9199\n",
      "Epoch 17/30\n",
      "129/129 [==============================] - 170s 1s/step - loss: 0.2229 - accuracy: 0.9233\n",
      "Epoch 18/30\n",
      "129/129 [==============================] - 170s 1s/step - loss: 0.2191 - accuracy: 0.9253\n",
      "Epoch 19/30\n",
      "129/129 [==============================] - 170s 1s/step - loss: 0.2224 - accuracy: 0.9195\n",
      "Epoch 20/30\n",
      "129/129 [==============================] - 170s 1s/step - loss: 0.2033 - accuracy: 0.9277\n",
      "Epoch 21/30\n",
      "129/129 [==============================] - 171s 1s/step - loss: 0.1915 - accuracy: 0.9333\n",
      "Epoch 22/30\n",
      "129/129 [==============================] - 172s 1s/step - loss: 0.1862 - accuracy: 0.9381\n",
      "Epoch 23/30\n",
      "129/129 [==============================] - 172s 1s/step - loss: 0.1641 - accuracy: 0.9427\n",
      "Epoch 24/30\n",
      "129/129 [==============================] - 175s 1s/step - loss: 0.1821 - accuracy: 0.9364\n",
      "Epoch 25/30\n",
      "129/129 [==============================] - 257s 2s/step - loss: 0.1658 - accuracy: 0.9432\n",
      "Epoch 26/30\n",
      "129/129 [==============================] - 271s 2s/step - loss: 0.1738 - accuracy: 0.9374\n",
      "Epoch 27/30\n",
      "129/129 [==============================] - 271s 2s/step - loss: 0.1454 - accuracy: 0.9505\n",
      "Epoch 28/30\n",
      "129/129 [==============================] - 270s 2s/step - loss: 0.1215 - accuracy: 0.9563\n",
      "Epoch 29/30\n",
      "129/129 [==============================] - 274s 2s/step - loss: 0.1180 - accuracy: 0.9592\n",
      "Epoch 30/30\n",
      "129/129 [==============================] - 276s 2s/step - loss: 0.1455 - accuracy: 0.9486\n"
     ]
    },
    {
     "data": {
      "text/plain": [
       "<keras.callbacks.History at 0x287b5d6ea00>"
      ]
     },
     "execution_count": 11,
     "metadata": {},
     "output_type": "execute_result"
    }
   ],
   "source": [
    "base_model = ResNet50(include_top = False,weights='imagenet')\n",
    "x = base_model.output\n",
    "x = GlobalAveragePooling2D()(x)\n",
    "x = Dense(1024,activation='relu')(x)\n",
    "predictions=Dense(train_generator.num_classes,activation='softmax')(x)\n",
    "model= Model(inputs=base_model.input,outputs=predictions)\n",
    "\n",
    "for layer in base_model.layers:\n",
    "    layer.trainable = False\n",
    "    \n",
    "model.compile(optimizer='adam', loss='categorical_crossentropy',metrics=['accuracy'])\n",
    "model.fit(train_generator,epochs=30)"
   ]
  },
  {
   "cell_type": "code",
   "execution_count": 13,
   "metadata": {},
   "outputs": [],
   "source": [
    "model.save_weights('Models/couleur/finalized_model.h5')"
   ]
  },
  {
   "cell_type": "code",
   "execution_count": null,
   "metadata": {},
   "outputs": [],
   "source": [
    "#model.load_weights('Models/couleur/finalized_model.h5')\n",
    "#model.compile(optimizer='adam', loss='categorical_crossentropy',metrics=['accuracy'])\n",
    "#model.fit(train_generator,epochs=60)"
   ]
  },
  {
   "cell_type": "code",
   "execution_count": 17,
   "metadata": {},
   "outputs": [
    {
     "name": "stderr",
     "output_type": "stream",
     "text": [
      "WARNING:absl:Found untraced functions such as _jit_compiled_convolution_op, _jit_compiled_convolution_op, _jit_compiled_convolution_op, _jit_compiled_convolution_op, _jit_compiled_convolution_op while saving (showing 5 of 53). These functions will not be directly callable after loading.\n"
     ]
    },
    {
     "name": "stdout",
     "output_type": "stream",
     "text": [
      "INFO:tensorflow:Assets written to: ram://d3bab971-513a-458d-9c23-663de901bb16/assets\n"
     ]
    },
    {
     "name": "stderr",
     "output_type": "stream",
     "text": [
      "INFO:tensorflow:Assets written to: ram://d3bab971-513a-458d-9c23-663de901bb16/assets\n"
     ]
    },
    {
     "data": {
      "text/plain": [
       "['Models/couleur/finalized_model.sav']"
      ]
     },
     "execution_count": 17,
     "metadata": {},
     "output_type": "execute_result"
    }
   ],
   "source": [
    "filename = 'Models/couleur/finalized_model.sav'\n",
    "joblib.dump(model, filename)"
   ]
  },
  {
   "cell_type": "code",
   "execution_count": 18,
   "metadata": {
    "id": "ybdNLs9xdlHE"
   },
   "outputs": [],
   "source": [
    "model_json = model.to_json()\n",
    "with open(r'Models/couleur/finalized_model.json',\"w\") as json_file:\n",
    "  json_file.write(model_json)"
   ]
  },
  {
   "cell_type": "markdown",
   "metadata": {
    "id": "nkTK1s5td4YB"
   },
   "source": [
    "### **COLOR PREDICTION**"
   ]
  },
  {
   "cell_type": "code",
   "execution_count": null,
   "metadata": {
    "id": "2K7oQsaXd951"
   },
   "outputs": [],
   "source": [
    "from keras.models import model_from_json"
   ]
  },
  {
   "cell_type": "code",
   "execution_count": null,
   "metadata": {
    "id": "r0WHOaYreB08"
   },
   "outputs": [],
   "source": [
    "def predict_(image_path):\n",
    "    #Load the Model from Json File\n",
    "    json_file = open(r\"C:\\Users\\kais\\Desktop\\Kais\\Stage\\ByColor\\model.json', 'r')\n",
    "    model_json_c = json_file.read()\n",
    "    json_file.close()\n",
    "    model_c = model_from_json(model_json_c)\n",
    "    #Load the weights\n",
    "    model_c.load_weights(r\"C:\\Users\\kais\\Desktop\\Kais\\Stage\\ByColor\\best_model.h5\")\n",
    "    #Compile the model\n",
    "    opt = SGD(lr=1e-4, momentum=0.9)\n",
    "    model_c.compile(loss=\"categorical_crossentropy\", optimizer=opt,metrics=[\"accuracy\"])\n",
    "    #load the image you want to classify\n",
    "    image = cv2.imread(image_path)\n",
    "    image = cv2.resize(image, (224,224))\n",
    "    cv2_imshow(image)\n",
    "    #predict the image\n",
    "    preds = model_c.predict(np.expand_dims(image, axis=0))[0]\n",
    "    if preds==0:\n",
    "        print(\"Predicted Label:Cat\")\n",
    "    else:\n",
    "        print(\"Predicted Label: Dog\")"
   ]
  },
  {
   "cell_type": "code",
   "execution_count": null,
   "metadata": {
    "id": "bMeIi2O_eHg6"
   },
   "outputs": [],
   "source": [
    "predict_(\"/content/gdrive/My Drive/datasets/test/Dog/4.jpg\")"
   ]
  },
  {
   "cell_type": "code",
   "execution_count": null,
   "metadata": {
    "id": "iK4_dI2AeB7A"
   },
   "outputs": [],
   "source": [
    "predict_(\"/content/gdrive/My Drive/datasets/test/Cat/10.jpg\")"
   ]
  },
  {
   "cell_type": "code",
   "execution_count": null,
   "metadata": {
    "id": "44GpOgfOeB-G"
   },
   "outputs": [],
   "source": [
    "predict_(\"/content/gdrive/My Drive/datasets/test/Cat/7.jpg\")"
   ]
  },
  {
   "cell_type": "code",
   "execution_count": null,
   "metadata": {
    "id": "zC5sz2mTeCA2"
   },
   "outputs": [],
   "source": []
  },
  {
   "cell_type": "code",
   "execution_count": null,
   "metadata": {
    "id": "7_iIa-lMeCEG"
   },
   "outputs": [],
   "source": []
  },
  {
   "cell_type": "code",
   "execution_count": null,
   "metadata": {},
   "outputs": [],
   "source": []
  },
  {
   "cell_type": "code",
   "execution_count": null,
   "metadata": {},
   "outputs": [],
   "source": []
  },
  {
   "cell_type": "code",
   "execution_count": null,
   "metadata": {},
   "outputs": [],
   "source": []
  },
  {
   "cell_type": "code",
   "execution_count": null,
   "metadata": {},
   "outputs": [],
   "source": []
  },
  {
   "cell_type": "code",
   "execution_count": null,
   "metadata": {},
   "outputs": [],
   "source": []
  },
  {
   "cell_type": "code",
   "execution_count": null,
   "metadata": {},
   "outputs": [],
   "source": []
  },
  {
   "cell_type": "code",
   "execution_count": null,
   "metadata": {},
   "outputs": [],
   "source": []
  },
  {
   "cell_type": "code",
   "execution_count": null,
   "metadata": {},
   "outputs": [],
   "source": []
  },
  {
   "cell_type": "code",
   "execution_count": null,
   "metadata": {},
   "outputs": [],
   "source": []
  }
 ],
 "metadata": {
  "accelerator": "GPU",
  "colab": {
   "provenance": []
  },
  "gpuClass": "standard",
  "kernelspec": {
   "display_name": "Python 3",
   "language": "python",
   "name": "python3"
  },
  "language_info": {
   "codemirror_mode": {
    "name": "ipython",
    "version": 3
   },
   "file_extension": ".py",
   "mimetype": "text/x-python",
   "name": "python",
   "nbconvert_exporter": "python",
   "pygments_lexer": "ipython3",
   "version": "3.8.8"
  }
 },
 "nbformat": 4,
 "nbformat_minor": 4
}
